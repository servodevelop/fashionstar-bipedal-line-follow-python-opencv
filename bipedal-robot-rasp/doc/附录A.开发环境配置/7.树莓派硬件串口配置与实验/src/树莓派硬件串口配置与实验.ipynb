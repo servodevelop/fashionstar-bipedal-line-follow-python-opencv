{
 "cells": [
  {
   "cell_type": "markdown",
   "metadata": {},
   "source": [
    "## 硬件串口配置\n",
    "\n",
    "树莓派3上面的`TX`与`RX`默认映射的是软串口, 而硬件串口被分配给了蓝牙. 为了获得稳定的串口通信质量, 需要牺牲蓝牙, 将板载的`TX`,`RX` 管脚映射到硬件串口上面.\n",
    "\n",
    "![v2-e647145651f3dff8abbc4a10d2f66abf_hd.jpg](./image/v2-e647145651f3dff8abbc4a10d2f66abf_hd.jpg)\n",
    "\n",
    "### 打开串口开关\n",
    "\n",
    "通过`raspi-config`打开串口开关\n",
    "\n",
    "运行raspi-config\n",
    "\n",
    "```bash\n",
    "sudo raspi-config\n",
    "```\n",
    "\n",
    "进入配置界面\n",
    "\n",
    "选择`5. Interfacing Options`\n",
    "\n",
    "![](./image/uart_config_01.png)\n",
    "\n",
    "选择`P6 Serial`， 设置串口相关配置\n",
    "![](./image/uart_config_02.png)\n",
    "\n",
    "\n",
    "树莓派的硬件串口资源默认用于 **串口终端调试**，如要想通过串口与其他单片机进行通信, 则需要关闭串口终端调试功能。 \n",
    "选择`否`\n",
    "![](./image/uart_config_03.png)\n",
    "\n",
    "是否打开硬件串口, 选择`是`\n",
    "![](./image/uart_config_04.png)\n",
    "\n",
    "显示配置结果\n",
    "![](./image/uart_config_05.png)\n",
    "\n",
    "\n",
    "如果想退出raspi-config, 按下方向键的`右键` , 选中`Finish`然后回车\n",
    "\n",
    "![](./image/uart_config_07.png)\n",
    "\n",
    "### 管脚重映射\n",
    "让蓝牙的串口映射到mini-uart上,  让硬件串口UART0 `/dev/ttyAMA0`映射到GPIOs 14 & 15\n",
    "\n",
    "在`boot/config.txt`文件末尾追加一行\n",
    "\n",
    "```\n",
    "dtoverlay=pi3-miniuart-bt\n",
    "```\n",
    "\n",
    "\n",
    "### 串口访问权限问题\n",
    "\n",
    "添加用户`pi`到`tty`还有`dialout`用户组\n",
    "\n",
    "```bash\n",
    "sudo usermod -a -G tty pi\n",
    "```\n",
    "\n",
    "```bash\n",
    "sudo usermod -a -G dialout pi\n",
    "```\n",
    "\n",
    "\n",
    "### 重启Rasberry Pi\n",
    "\n",
    "\n",
    "重启树莓派让配置生效\n",
    "\n",
    "```bash\n",
    "reboot\n",
    "```\n",
    "\n",
    "\n",
    "### 参考文档\n",
    "\n",
    "[树莓派UART注意事项-官方文档](https://www.raspberrypi.org/documentation/configuration/uart.md)\n",
    "\n",
    "[树莓派串口通信设置](https://zhuanlan.zhihu.com/p/38853178)\n",
    "\n",
    "[Raspberry Pi 3 UART Boot Overlay Part Two](https://www.cnblogs.com/raffeale/articles/5575162.html)\n",
    "\n",
    "\n"
   ]
  },
  {
   "cell_type": "markdown",
   "metadata": {},
   "source": [
    "## 自发自收实验"
   ]
  },
  {
   "cell_type": "markdown",
   "metadata": {},
   "source": [
    "在运行此实验之前, 请将树莓派的`RX`跟`TX`用杜邦线链接在一起\n",
    "\n",
    "![v2-e647145651f3dff8abbc4a10d2f66abf_hd.jpg](./image/v2-e647145651f3dff8abbc4a10d2f66abf_hd.jpg)\n",
    "\n",
    "\n",
    "实物图, 见图中的绿色杜邦线\n",
    "\n",
    "![](./image/rx_connect_tx.jpg)\n",
    "\n"
   ]
  },
  {
   "cell_type": "markdown",
   "metadata": {},
   "source": [
    "创建串口对象"
   ]
  },
  {
   "cell_type": "code",
   "execution_count": 1,
   "metadata": {},
   "outputs": [],
   "source": [
    "import serial\n",
    "\n",
    "# 树莓派 硬件串口的端口号\n",
    "PORT_NAME='/dev/ttyAMA0'\n",
    "\n",
    "# 创建串口对象\n",
    "# PySerial相关的API文档\n",
    "# https://pyserial.readthedocs.io/en/latest/pyserial_api.html  \n",
    "# 设置timeout=0 不等待直接返回\n",
    "uart = serial.Serial(port=PORT_NAME, baudrate=57600,\\\n",
    "                     parity=serial.PARITY_NONE, stopbits=1,\\\n",
    "                     bytesize=8,timeout=0)"
   ]
  },
  {
   "cell_type": "markdown",
   "metadata": {},
   "source": [
    "准备发送的信息"
   ]
  },
  {
   "cell_type": "code",
   "execution_count": 2,
   "metadata": {},
   "outputs": [],
   "source": [
    "info = 'Hello World'"
   ]
  },
  {
   "cell_type": "markdown",
   "metadata": {},
   "source": [
    "将字符串编码为utf8格式的字节数组， 通过uart发送出去"
   ]
  },
  {
   "cell_type": "code",
   "execution_count": 3,
   "metadata": {},
   "outputs": [],
   "source": [
    "info_byte = info.encode('utf8')"
   ]
  },
  {
   "cell_type": "code",
   "execution_count": 4,
   "metadata": {},
   "outputs": [
    {
     "data": {
      "text/plain": [
       "11"
      ]
     },
     "execution_count": 4,
     "metadata": {},
     "output_type": "execute_result"
    }
   ],
   "source": [
    "uart.write(info_byte)"
   ]
  },
  {
   "cell_type": "markdown",
   "metadata": {},
   "source": [
    "等待一段时间之后，运行下面的cell"
   ]
  },
  {
   "cell_type": "code",
   "execution_count": 5,
   "metadata": {},
   "outputs": [
    {
     "data": {
      "text/plain": [
       "b'Hello World'"
      ]
     },
     "execution_count": 5,
     "metadata": {},
     "output_type": "execute_result"
    }
   ],
   "source": [
    "uart.read_all()"
   ]
  },
  {
   "cell_type": "markdown",
   "metadata": {},
   "source": [
    "可以看到接收端收到了刚才发送端的消息"
   ]
  }
 ],
 "metadata": {
  "kernelspec": {
   "display_name": "Python 3",
   "language": "python",
   "name": "python3"
  },
  "language_info": {
   "codemirror_mode": {
    "name": "ipython",
    "version": 3
   },
   "file_extension": ".py",
   "mimetype": "text/x-python",
   "name": "python",
   "nbconvert_exporter": "python",
   "pygments_lexer": "ipython3",
   "version": "3.6.8"
  }
 },
 "nbformat": 4,
 "nbformat_minor": 2
}
