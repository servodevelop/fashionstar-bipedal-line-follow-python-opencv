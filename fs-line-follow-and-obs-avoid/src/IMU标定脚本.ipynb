{
 "cells": [
  {
   "cell_type": "markdown",
   "metadata": {},
   "source": [
    "# IMU标定"
   ]
  },
  {
   "cell_type": "markdown",
   "metadata": {},
   "source": [
    "## 导入依赖"
   ]
  },
  {
   "cell_type": "code",
   "execution_count": 1,
   "metadata": {},
   "outputs": [],
   "source": [
    "import numpy as np\n",
    "from imu_mpu6050 import RaspMPU6050\n",
    "from sklearn.linear_model import LinearRegression"
   ]
  },
  {
   "cell_type": "markdown",
   "metadata": {},
   "source": [
    "## 数据采集\n",
    "从MPU6050读取原始数据"
   ]
  },
  {
   "cell_type": "code",
   "execution_count": 2,
   "metadata": {},
   "outputs": [],
   "source": [
    "# 初始化MPU6050对象\n",
    "imu = RaspMPU6050()"
   ]
  },
  {
   "cell_type": "code",
   "execution_count": 3,
   "metadata": {},
   "outputs": [],
   "source": [
    "def sample_one_side(n_repeat = 10000):\n",
    "    '''对IMU的单边采样'''\n",
    "    data_raw = []\n",
    "    for i in range(n_repeat):\n",
    "        data_raw.append(imu.get_accel_raw())\n",
    "    data_raw = np.array(data_raw)\n",
    "    data_raw_mean = np.mean(data_raw, axis=0)\n",
    "    return data_raw_mean"
   ]
  },
  {
   "cell_type": "code",
   "execution_count": 4,
   "metadata": {},
   "outputs": [
    {
     "name": "stdout",
     "output_type": "stream",
     "text": [
      "[ 152.7002  135.1152 8797.2304]\n"
     ]
    }
   ],
   "source": [
    "# 保持Z轴朝上\n",
    "accel_z_up =  sample_one_side()\n",
    "print(accel_z_up)"
   ]
  },
  {
   "cell_type": "code",
   "execution_count": 5,
   "metadata": {},
   "outputs": [
    {
     "name": "stdout",
     "output_type": "stream",
     "text": [
      "[ -148.1456   -34.4474 -7746.1666]\n"
     ]
    }
   ],
   "source": [
    "# 保持Z轴朝下\n",
    "accel_z_down = sample_one_side()\n",
    "print(accel_z_down)"
   ]
  },
  {
   "cell_type": "code",
   "execution_count": 6,
   "metadata": {},
   "outputs": [
    {
     "name": "stdout",
     "output_type": "stream",
     "text": [
      "[8261.148    12.5242  690.1688]\n"
     ]
    }
   ],
   "source": [
    "# 保持X轴朝上\n",
    "accel_x_up = sample_one_side()\n",
    "print(accel_x_up)"
   ]
  },
  {
   "cell_type": "code",
   "execution_count": 7,
   "metadata": {},
   "outputs": [
    {
     "name": "stdout",
     "output_type": "stream",
     "text": [
      "[-8088.8126   -67.1232   250.5438]\n"
     ]
    }
   ],
   "source": [
    "# 保持X轴朝下\n",
    "accel_x_down = sample_one_side()\n",
    "print(accel_x_down)"
   ]
  },
  {
   "cell_type": "code",
   "execution_count": 11,
   "metadata": {},
   "outputs": [
    {
     "name": "stdout",
     "output_type": "stream",
     "text": [
      "[ 666.1468 8364.7666  608.4802]\n"
     ]
    }
   ],
   "source": [
    "# 保持Y轴朝上\n",
    "accel_y_up = sample_one_side()\n",
    "print(accel_y_up)"
   ]
  },
  {
   "cell_type": "code",
   "execution_count": 13,
   "metadata": {},
   "outputs": [
    {
     "name": "stdout",
     "output_type": "stream",
     "text": [
      "[  224.0862 -8102.1206   699.5064]\n"
     ]
    }
   ],
   "source": [
    "# 保持Y轴朝下\n",
    "accel_y_down = sample_one_side()\n",
    "print(accel_y_down)"
   ]
  },
  {
   "cell_type": "markdown",
   "metadata": {},
   "source": [
    "## 制作数据集"
   ]
  },
  {
   "cell_type": "code",
   "execution_count": 14,
   "metadata": {},
   "outputs": [],
   "source": [
    "# 当地的重力加速度 m/s^2\n",
    "g = 9.7773\n",
    "\n",
    "# # 重力加速度 六面原始数据\n",
    "# accel_raw_data = np.array([\n",
    "#     [2017, 138, 15286], # Z轴朝上\n",
    "#     [2399, -568, -18220], # Z轴朝下\n",
    "#     [18475, -234, -1084], # X轴朝上\n",
    "#     [-14474, -206.62, -2367], # X轴朝下\n",
    "#     [2307, 16132, -2579], # Y轴朝上\n",
    "#     [2057, -16523, -545], # Y轴朝下\n",
    "# ])\n",
    "\n",
    "# 重力加速度 六面原始数据\n",
    "accel_raw_data = np.array([\n",
    "    list(accel_z_up), # Z轴朝上\n",
    "    list(accel_z_down), # Z轴朝下\n",
    "    list(accel_x_up), # X轴朝上\n",
    "    list(accel_x_down), # X轴朝下\n",
    "    list(accel_y_up), # Y轴朝上\n",
    "    list(accel_y_down), # Y轴朝下\n",
    "])\n",
    "\n",
    "# 重力加速度 六面目标数据\n",
    "# 注:加速度计采样的加速度方向跟真实的重力加速度方向相反\n",
    "accel_target = np.array([\n",
    "    [0, 0, g], # Z轴朝上\n",
    "    [0, 0, -g], # Z轴朝下\n",
    "    [g, 0, 0], # X轴朝上\n",
    "    [-g, 0, 0],  # X轴朝下\n",
    "    [0, g, 0], # Y轴朝上\n",
    "    [0, -g, 0], # Y轴朝下\n",
    "])"
   ]
  },
  {
   "cell_type": "markdown",
   "metadata": {},
   "source": [
    "## 线性最小二乘法\n",
    "\n",
    "使用sklearn进行线性最小二乘法求解"
   ]
  },
  {
   "cell_type": "markdown",
   "metadata": {},
   "source": [
    "标定加速度的X轴"
   ]
  },
  {
   "cell_type": "code",
   "execution_count": 15,
   "metadata": {},
   "outputs": [
    {
     "name": "stdout",
     "output_type": "stream",
     "text": [
      "ax_real = 0.001192752067567948 * ax_raw + -0.21213552743321828\n"
     ]
    }
   ],
   "source": [
    "ax_input = accel_raw_data[:, 0].reshape((-1, 1))\n",
    "ax_output = accel_target[:, 0].reshape((-1, 1))\n",
    "regx = LinearRegression().fit(ax_input, ax_output)\n",
    "\n",
    "ax_scale, ax_bias = regx.coef_[0][0] , regx.intercept_ [0]\n",
    "print('ax_real = {} * ax_raw + {}'.format(ax_scale, ax_bias))"
   ]
  },
  {
   "cell_type": "markdown",
   "metadata": {},
   "source": [
    "标定加速度的y轴"
   ]
  },
  {
   "cell_type": "code",
   "execution_count": 16,
   "metadata": {},
   "outputs": [
    {
     "name": "stdout",
     "output_type": "stream",
     "text": [
      "ay_real = 0.0011871364200602235 * ay_raw + -0.06108109708193459\n"
     ]
    }
   ],
   "source": [
    "ay_input = accel_raw_data[:, 1].reshape((-1, 1))\n",
    "ay_output = accel_target[:, 1].reshape((-1, 1))\n",
    "regy = LinearRegression().fit(ay_input, ay_output)\n",
    "\n",
    "ay_scale, ay_bias = regy.coef_[0][0] , regy.intercept_ [0]\n",
    "print('ay_real = {} * ay_raw + {}'.format(ay_scale, ay_bias))"
   ]
  },
  {
   "cell_type": "markdown",
   "metadata": {},
   "source": [
    "标定Z轴的数据"
   ]
  },
  {
   "cell_type": "code",
   "execution_count": 17,
   "metadata": {},
   "outputs": [
    {
     "name": "stdout",
     "output_type": "stream",
     "text": [
      "az_real = 0.001180842335279502 * az_raw + -0.6494166411314827\n"
     ]
    }
   ],
   "source": [
    "az_input = accel_raw_data[:, 2].reshape((-1, 1))\n",
    "az_output = accel_target[:, 2].reshape((-1, 1))\n",
    "regz = LinearRegression().fit(az_input, az_output)\n",
    "\n",
    "az_scale, az_bias = regz.coef_[0][0] , regz.intercept_ [0]\n",
    "print('az_real = {} * az_raw + {}'.format(az_scale, az_bias))"
   ]
  },
  {
   "cell_type": "markdown",
   "metadata": {},
   "source": [
    "## 保存标定数据"
   ]
  },
  {
   "cell_type": "code",
   "execution_count": 18,
   "metadata": {},
   "outputs": [],
   "source": [
    "import json"
   ]
  },
  {
   "cell_type": "code",
   "execution_count": 19,
   "metadata": {},
   "outputs": [
    {
     "name": "stdout",
     "output_type": "stream",
     "text": [
      "{\"ax_scale\": 0.001192752067567948, \"ay_scale\": 0.0011871364200602235, \"az_scale\": 0.001180842335279502, \"ax_bias\": -0.21213552743321828, \"ay_bias\": -0.06108109708193459, \"az_bias\": -0.6494166411314827}\n"
     ]
    }
   ],
   "source": [
    "with open('config/imu_calibration.json', 'w') as f:\n",
    "    cali_data_dict = {}\n",
    "    cali_data_dict['ax_scale'] = float(ax_scale)\n",
    "    cali_data_dict['ay_scale'] = float(ay_scale)\n",
    "    cali_data_dict['az_scale'] = float(az_scale)\n",
    "    cali_data_dict['ax_bias'] = float(ax_bias)\n",
    "    cali_data_dict['ay_bias'] = float(ay_bias)\n",
    "    cali_data_dict['az_bias'] = float(az_bias)\n",
    "    print(json.dumps(cali_data_dict))\n",
    "    f.write(json.dumps(cali_data_dict))"
   ]
  },
  {
   "cell_type": "markdown",
   "metadata": {},
   "source": [
    "载入标定数据演示"
   ]
  },
  {
   "cell_type": "code",
   "execution_count": 20,
   "metadata": {},
   "outputs": [
    {
     "name": "stdout",
     "output_type": "stream",
     "text": [
      "{'ax_scale': 0.001192752067567948, 'ay_scale': 0.0011871364200602235, 'az_scale': 0.001180842335279502, 'ax_bias': -0.21213552743321828, 'ay_bias': -0.06108109708193459, 'az_bias': -0.6494166411314827}\n",
      "0.001192752067567948\n"
     ]
    }
   ],
   "source": [
    "with open('config/imu_calibration.json', 'r') as f:\n",
    "    data = json.loads(f.read())\n",
    "    print(data)\n",
    "    print(data['ax_scale'])"
   ]
  }
 ],
 "metadata": {
  "kernelspec": {
   "display_name": "Python 3",
   "language": "python",
   "name": "python3"
  },
  "language_info": {
   "codemirror_mode": {
    "name": "ipython",
    "version": 3
   },
   "file_extension": ".py",
   "mimetype": "text/x-python",
   "name": "python",
   "nbconvert_exporter": "python",
   "pygments_lexer": "ipython3",
   "version": "3.6.9"
  }
 },
 "nbformat": 4,
 "nbformat_minor": 2
}
